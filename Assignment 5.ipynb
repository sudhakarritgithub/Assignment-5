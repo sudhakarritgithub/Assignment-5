{
 "cells": [
  {
   "cell_type": "raw",
   "id": "27bc6598-b82f-4e53-8989-ceca7d730cc4",
   "metadata": {},
   "source": [
    "                                                   ASSIGNMENT-5"
   ]
  },
  {
   "cell_type": "raw",
   "id": "7034639e-e131-4141-87bc-1614d2dea839",
   "metadata": {},
   "source": []
  },
  {
   "cell_type": "raw",
   "id": "da8ea3d3-ae37-4c7d-af26-857ada5b9b7c",
   "metadata": {},
   "source": []
  },
  {
   "cell_type": "raw",
   "id": "5efa2f41-6a60-425c-b3bd-f319dd477c42",
   "metadata": {},
   "source": [
    "Ques.1  Create a vehicle class with an init method having instance variables as name_of_vehicle, max_speed\n",
    "        and average_of_vehicle."
   ]
  },
  {
   "cell_type": "code",
   "execution_count": 1,
   "id": "d0f1622b-1eee-4a50-a545-76647baa2b50",
   "metadata": {},
   "outputs": [],
   "source": [
    "class vehicle:\n",
    "    def __init__(self,name_of_vehicle,max_speed,average_of_vehicle):\n",
    "        self.name_of_vehicle=name_of_vehicle\n",
    "        self.max_speed=max_speed\n",
    "        self.average_of_vehicle=average_of_vehicle\n",
    "    def return_car_details(self):\n",
    "        return self.name_of_vehicle,self.max_speed,self.average_of_vehicle"
   ]
  },
  {
   "cell_type": "code",
   "execution_count": 2,
   "id": "dd6c32d1-e746-41d5-b9de-f2beb32c3de2",
   "metadata": {},
   "outputs": [],
   "source": [
    "sudhakar=vehicle(\"Fortuner\",150,70)"
   ]
  },
  {
   "cell_type": "code",
   "execution_count": 3,
   "id": "5719cf0d-cd9f-4139-ae9e-c40a57acca4d",
   "metadata": {},
   "outputs": [
    {
     "data": {
      "text/plain": [
       "'Fortuner'"
      ]
     },
     "execution_count": 3,
     "metadata": {},
     "output_type": "execute_result"
    }
   ],
   "source": [
    "sudhakar.name_of_vehicle"
   ]
  },
  {
   "cell_type": "code",
   "execution_count": 4,
   "id": "e8b3a0a1-e0bb-4608-9d33-e85cc00366bd",
   "metadata": {},
   "outputs": [
    {
     "data": {
      "text/plain": [
       "150"
      ]
     },
     "execution_count": 4,
     "metadata": {},
     "output_type": "execute_result"
    }
   ],
   "source": [
    "sudhakar.max_speed"
   ]
  },
  {
   "cell_type": "code",
   "execution_count": 5,
   "id": "ec42b22b-2758-4818-b11d-561527b2d4c7",
   "metadata": {},
   "outputs": [
    {
     "data": {
      "text/plain": [
       "70"
      ]
     },
     "execution_count": 5,
     "metadata": {},
     "output_type": "execute_result"
    }
   ],
   "source": [
    "sudhakar.average_of_vehicle"
   ]
  },
  {
   "cell_type": "code",
   "execution_count": 6,
   "id": "69163cec-ab25-4b81-b3fc-51f641df23fd",
   "metadata": {},
   "outputs": [
    {
     "data": {
      "text/plain": [
       "('Fortuner', 150, 70)"
      ]
     },
     "execution_count": 6,
     "metadata": {},
     "output_type": "execute_result"
    }
   ],
   "source": [
    "sudhakar.return_car_details()"
   ]
  },
  {
   "cell_type": "raw",
   "id": "1cc1bc21-7ef4-4545-be25-688fce047cdd",
   "metadata": {},
   "source": []
  },
  {
   "cell_type": "raw",
   "id": "927b2031-54f3-4542-975e-77da7920382d",
   "metadata": {},
   "source": []
  },
  {
   "cell_type": "raw",
   "id": "7c70bfea-a47e-4302-ba16-4363b14601c7",
   "metadata": {},
   "source": [
    "Ques.2 Create a child class car from the vehicle class created in Que 1, which will inherit the vehicle              class. Create a method named seating_capacity which takes capacity as an argument and returns the name        of the vehicle and its seating capacity."
   ]
  },
  {
   "cell_type": "code",
   "execution_count": 8,
   "id": "24c516d3-da2f-487e-bf54-bb44d1d69002",
   "metadata": {},
   "outputs": [
    {
     "name": "stdout",
     "output_type": "stream",
     "text": [
      "Vehicle: Tesla Model 3\n",
      "Max Speed: 250 km/h\n",
      "Tesla Model 3 has a seating capacity of 5 passengers\n"
     ]
    }
   ],
   "source": [
    "class Vehicle:\n",
    "    def __init__(self, name, max_speed):\n",
    "        self.name = name\n",
    "        self.max_speed = max_speed\n",
    "\n",
    "    def display(self):\n",
    "        print(f\"Vehicle: {self.name}\")\n",
    "        print(f\"Max Speed: {self.max_speed} km/h\")\n",
    "\n",
    "class Car(Vehicle):\n",
    "    def __init__(self, name, max_speed):\n",
    "        super().__init__(name, max_speed)\n",
    "\n",
    "    def seating_capacity(self, capacity):\n",
    "        return f\"{self.name} has a seating capacity of {capacity} passengers\"\n",
    "\n",
    "my_car = Car(\"Tesla Model 3\", 250)\n",
    "my_car.display()\n",
    "capacity_info = my_car.seating_capacity(5)\n",
    "print(capacity_info)\n"
   ]
  },
  {
   "cell_type": "raw",
   "id": "9e5dbc66-d292-4372-8ec2-999c3890349c",
   "metadata": {},
   "source": []
  },
  {
   "cell_type": "raw",
   "id": "753f20cb-6ae0-4044-a9eb-52ad2a031863",
   "metadata": {},
   "source": []
  },
  {
   "cell_type": "raw",
   "id": "57df2fff-7daa-4176-8c89-36b8c71b41e7",
   "metadata": {},
   "source": [
    "Ques.3  What is multiple inheritance? Write a python code to demonstrate multiple inheritance."
   ]
  },
  {
   "cell_type": "raw",
   "id": "afc685e9-4365-4806-af62-eafe495a76a0",
   "metadata": {},
   "source": [
    " Multiple inheritance is a feature in object-oriented programming where a class can inherit attributes and methods from more than one parent class."
   ]
  },
  {
   "cell_type": "code",
   "execution_count": 10,
   "id": "71a226da-1746-4e12-91fa-13e2f76e0e81",
   "metadata": {},
   "outputs": [
    {
     "name": "stdout",
     "output_type": "stream",
     "text": [
      "Squeak!\n",
      "Flying...\n",
      "Feeding the young...\n"
     ]
    }
   ],
   "source": [
    "class Animal:\n",
    "    def make_sound(self):\n",
    "        pass\n",
    "\n",
    "class Bird(Animal):\n",
    "    def fly(self):\n",
    "        print(\"Flying...\")\n",
    "\n",
    "class Mammal(Animal):\n",
    "    def feed_young(self):\n",
    "        print(\"Feeding the young...\")\n",
    "\n",
    "class Bat(Mammal, Bird):\n",
    "    def make_sound(self):\n",
    "        print(\"Squeak!\")\n",
    "        \n",
    "my_bat = Bat()\n",
    "\n",
    "my_bat.make_sound()  \n",
    "my_bat.fly()         \n",
    "my_bat.feed_young() \n"
   ]
  },
  {
   "cell_type": "raw",
   "id": "7d381d89-f0d7-4231-8e8a-18a3e3b47825",
   "metadata": {},
   "source": []
  },
  {
   "cell_type": "raw",
   "id": "8b2766c0-133c-4c26-b76b-e2e6056e5af9",
   "metadata": {},
   "source": []
  },
  {
   "cell_type": "raw",
   "id": "7739cf5b-b9c9-49e8-8444-3d74d6779e12",
   "metadata": {},
   "source": [
    "Ques.4 What are getter and setter in python? Create a class and create a getter and a setter method in this\n",
    "       class."
   ]
  },
  {
   "cell_type": "raw",
   "id": "b3217ef6-d1f2-42fe-8748-fb6522468afa",
   "metadata": {},
   "source": [
    "Getters are methods used to access (get) the value of an attribute, while setters are methods used to modify (set) the value of an attribute. They allow you to control how attributes are accessed and modified, enabling validation, computation, or any other custom behavior."
   ]
  },
  {
   "cell_type": "code",
   "execution_count": 11,
   "id": "7ee2fccf-41c1-406a-8a79-45b312f3e382",
   "metadata": {},
   "outputs": [
    {
     "name": "stdout",
     "output_type": "stream",
     "text": [
      "Current value: 10\n",
      "Value cannot be negative.\n",
      "Value after attempting to set a negative value: 10\n"
     ]
    }
   ],
   "source": [
    "class MyClass:\n",
    "    def __init__(self):\n",
    "        self._value = 0  \n",
    "\n",
    "    \n",
    "    def get_value(self):\n",
    "        return self._value\n",
    "\n",
    "    \n",
    "    def set_value(self, new_value):\n",
    "        if new_value >= 0:\n",
    "            self._value = new_value\n",
    "        else:\n",
    "            print(\"Value cannot be negative.\")\n",
    "\n",
    "obj = MyClass()\n",
    "obj.set_value(10)\n",
    "value = obj.get_value()\n",
    "print(\"Current value:\", value)\n",
    "obj.set_value(-5)\n",
    "value = obj.get_value()\n",
    "print(\"Value after attempting to set a negative value:\", value)\n"
   ]
  },
  {
   "cell_type": "raw",
   "id": "bf8ea0a1-9e10-44bc-afe8-79566e7dc2a0",
   "metadata": {},
   "source": []
  },
  {
   "cell_type": "raw",
   "id": "bd93dddd-b61a-4afb-8691-83e89cf22119",
   "metadata": {},
   "source": []
  },
  {
   "cell_type": "raw",
   "id": "70ee6f8c-e505-48cb-bcc1-0b733974ee42",
   "metadata": {},
   "source": [
    "Ques.5 What is method overriding in python? Write a python code to demonstrate method overriding."
   ]
  },
  {
   "cell_type": "raw",
   "id": "439730cd-c225-4b93-b112-8164a9a54d1d",
   "metadata": {},
   "source": [
    "Method overriding in Python occurs when a subclass provides a specific implementation of a method that is already present in its superclass. It allows a subclass to provide a specialized implementation of a method that is already defined in its superclass."
   ]
  },
  {
   "cell_type": "code",
   "execution_count": 12,
   "id": "57763325-a5e1-446b-ba13-f447146c1f21",
   "metadata": {},
   "outputs": [
    {
     "name": "stdout",
     "output_type": "stream",
     "text": [
      "Generic animal sound\n",
      "Woof!\n",
      "Meow!\n"
     ]
    }
   ],
   "source": [
    "class Animal:\n",
    "    def make_sound(self):\n",
    "        print(\"Generic animal sound\")\n",
    "\n",
    "class Dog(Animal):\n",
    "    def make_sound(self):\n",
    "        print(\"Woof!\")\n",
    "\n",
    "class Cat(Animal):\n",
    "    def make_sound(self):\n",
    "        print(\"Meow!\")\n",
    "\n",
    "\n",
    "animal = Animal()\n",
    "dog = Dog()\n",
    "cat = Cat()\n",
    "\n",
    "\n",
    "animal.make_sound()  \n",
    "dog.make_sound()     \n",
    "cat.make_sound()     \n"
   ]
  },
  {
   "cell_type": "code",
   "execution_count": null,
   "id": "e4ac6208-4cca-4364-84d8-29880ae79b3a",
   "metadata": {},
   "outputs": [],
   "source": []
  }
 ],
 "metadata": {
  "kernelspec": {
   "display_name": "Python 3 (ipykernel)",
   "language": "python",
   "name": "python3"
  },
  "language_info": {
   "codemirror_mode": {
    "name": "ipython",
    "version": 3
   },
   "file_extension": ".py",
   "mimetype": "text/x-python",
   "name": "python",
   "nbconvert_exporter": "python",
   "pygments_lexer": "ipython3",
   "version": "3.10.8"
  }
 },
 "nbformat": 4,
 "nbformat_minor": 5
}
